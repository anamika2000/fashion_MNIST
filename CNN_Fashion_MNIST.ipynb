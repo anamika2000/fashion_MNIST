{
  "nbformat": 4,
  "nbformat_minor": 0,
  "metadata": {
    "colab": {
      "name": "CNN_Fashion_MNIST.ipynb",
      "provenance": [],
      "authorship_tag": "ABX9TyNKfozSyNH872tPnlJMgiXP",
      "include_colab_link": true
    },
    "kernelspec": {
      "name": "python3",
      "display_name": "Python 3"
    }
  },
  "cells": [
    {
      "cell_type": "markdown",
      "metadata": {
        "id": "view-in-github",
        "colab_type": "text"
      },
      "source": [
        "<a href=\"https://colab.research.google.com/github/anamika2000/fashion_MNIST/blob/main/CNN_Fashion_MNIST.ipynb\" target=\"_parent\"><img src=\"https://colab.research.google.com/assets/colab-badge.svg\" alt=\"Open In Colab\"/></a>"
      ]
    },
    {
      "cell_type": "code",
      "metadata": {
        "id": "24zQNa31xcMG"
      },
      "source": [
        "import tensorflow as tf\r\n",
        "import numpy as np\r\n",
        "import matplotlib.pyplot as plt\r\n",
        "from tensorflow import keras"
      ],
      "execution_count": 2,
      "outputs": []
    },
    {
      "cell_type": "code",
      "metadata": {
        "id": "YxVb-vA6x3k6"
      },
      "source": [
        "(x_train,y_train),(x_test,y_test)=tf.keras.datasets.fashion_mnist.load_data()"
      ],
      "execution_count": 3,
      "outputs": []
    },
    {
      "cell_type": "code",
      "metadata": {
        "colab": {
          "base_uri": "https://localhost:8080/"
        },
        "id": "9QU3CBAvyhRK",
        "outputId": "16bb253c-4170-4e70-a2c1-2a90bfa04af2"
      },
      "source": [
        "print(x_train.shape)\r\n",
        "print(y_train.shape)\r\n",
        "print(x_test.shape)\r\n",
        "print(y_test.shape)"
      ],
      "execution_count": 4,
      "outputs": [
        {
          "output_type": "stream",
          "text": [
            "(60000, 28, 28)\n",
            "(60000,)\n",
            "(10000, 28, 28)\n",
            "(10000,)\n"
          ],
          "name": "stdout"
        }
      ]
    },
    {
      "cell_type": "code",
      "metadata": {
        "id": "ek0zJvpyyuXL"
      },
      "source": [
        "label= ['T-shirt/top', 'Trouser', 'Pullover', 'Dress', 'Coat', \r\n",
        "               'Sandal', 'Shirt', 'Sneaker', 'Bag', 'Ankle boot']\r\n",
        "x_train=x_train/255.0\r\n",
        "x_test=x_test/255.0"
      ],
      "execution_count": 5,
      "outputs": []
    },
    {
      "cell_type": "code",
      "metadata": {
        "colab": {
          "base_uri": "https://localhost:8080/",
          "height": 139
        },
        "id": "2jM9ddHkzBWO",
        "outputId": "543b33e9-6d37-4e7d-8cf9-5d8611084c74"
      },
      "source": [
        "plt.figure(figsize=(10,10))\r\n",
        "for i in range(5):\r\n",
        "    plt.subplot(5,5,i+1)\r\n",
        "    plt.xticks([])\r\n",
        "    plt.yticks([])\r\n",
        "    plt.grid(False)\r\n",
        "    plt.imshow(x_train[i], cmap=plt.cm.binary)\r\n",
        "    plt.xlabel(label[y_train[i]])"
      ],
      "execution_count": 6,
      "outputs": [
        {
          "output_type": "display_data",
          "data": {
            "image/png": "[encoded data removed]",
            "text/plain": [
              "<Figure size 720x720 with 5 Axes>"
            ]
          },
          "metadata": {
            "tags": []
          }
        }
      ]
    },
    {
      "cell_type": "code",
      "metadata": {
        "id": "Etb6dlxwzbsn"
      },
      "source": [
        "x_train=x_train.reshape(x_train.shape[0],28,28,1)\r\n",
        "x_test=x_test.reshape(x_test.shape[0],28,28,1)\r\n",
        "\r\n",
        "#convert the representation of label to 'one hot representation'\r\n",
        "y_train=tf.keras.utils.to_categorical(y_train)\r\n",
        "y_test=tf.keras.utils.to_categorical(y_test)"
      ],
      "execution_count": 7,
      "outputs": []
    },
    {
      "cell_type": "code",
      "metadata": {
        "colab": {
          "base_uri": "https://localhost:8080/"
        },
        "id": "Lpu3L0A30cvC",
        "outputId": "ef5e86b6-b349-4b9a-e59a-125f65b68d22"
      },
      "source": [
        "print(x_train.shape)\r\n",
        "print(y_train.shape)\r\n",
        "print(x_test.shape)\r\n",
        "print(y_test.shape)"
      ],
      "execution_count": 8,
      "outputs": [
        {
          "output_type": "stream",
          "text": [
            "(60000, 28, 28, 1)\n",
            "(60000, 10)\n",
            "(10000, 28, 28, 1)\n",
            "(10000, 10)\n"
          ],
          "name": "stdout"
        }
      ]
    },
    {
      "cell_type": "code",
      "metadata": {
        "id": "oqd4JANj04mN"
      },
      "source": [
        "model = tf.keras.models.Sequential()\r\n",
        "model.add(tf.keras.layers.Conv2D(20, (5,5), padding='same', activation='relu', input_shape=(28,28,1)))\r\n",
        "model.add(tf.keras.layers.MaxPooling2D(pool_size=(2,2), strides=(2,2)))\r\n",
        "model.add(tf.keras.layers.Conv2D(50, (5,5), padding='same', activation='relu'))\r\n",
        "model.add(tf.keras.layers.MaxPooling2D(pool_size=(2,2), strides=(2,2)))\r\n",
        "model.add(tf.keras.layers.Flatten())\r\n",
        "model.add(tf.keras.layers.Dense(500, activation='relu'))\r\n",
        "model.add(tf.keras.layers.Dense(10, activation='softmax'))"
      ],
      "execution_count": 9,
      "outputs": []
    },
    {
      "cell_type": "code",
      "metadata": {
        "colab": {
          "base_uri": "https://localhost:8080/"
        },
        "id": "EpZCK1ns3Jzt",
        "outputId": "f574c52a-5625-4b16-bb31-159691719abd"
      },
      "source": [
        "model.summary()"
      ],
      "execution_count": 10,
      "outputs": [
        {
          "output_type": "stream",
          "text": [
            "Model: \"sequential\"\n",
            "_________________________________________________________________\n",
            "Layer (type)                 Output Shape              Param #   \n",
            "=================================================================\n",
            "conv2d (Conv2D)              (None, 28, 28, 20)        520       \n",
            "_________________________________________________________________\n",
            "max_pooling2d (MaxPooling2D) (None, 14, 14, 20)        0         \n",
            "_________________________________________________________________\n",
            "conv2d_1 (Conv2D)            (None, 14, 14, 50)        25050     \n",
            "_________________________________________________________________\n",
            "max_pooling2d_1 (MaxPooling2 (None, 7, 7, 50)          0         \n",
            "_________________________________________________________________\n",
            "flatten (Flatten)            (None, 2450)              0         \n",
            "_________________________________________________________________\n",
            "dense (Dense)                (None, 500)               1225500   \n",
            "_________________________________________________________________\n",
            "dense_1 (Dense)              (None, 10)                5010      \n",
            "=================================================================\n",
            "Total params: 1,256,080\n",
            "Trainable params: 1,256,080\n",
            "Non-trainable params: 0\n",
            "_________________________________________________________________\n"
          ],
          "name": "stdout"
        }
      ]
    },
    {
      "cell_type": "code",
      "metadata": {
        "id": "MyKfQgGH3VCn"
      },
      "source": [
        "model.compile(optimizer=tf.keras.optimizers.Adam(), \r\n",
        "             loss='categorical_crossentropy',\r\n",
        "              metrics=['accuracy'])"
      ],
      "execution_count": 11,
      "outputs": []
    },
    {
      "cell_type": "code",
      "metadata": {
        "colab": {
          "base_uri": "https://localhost:8080/"
        },
        "id": "ENnG3CaS3p7O",
        "outputId": "327de8da-64f7-4b1b-9d4a-94347277d178"
      },
      "source": [
        "model.fit(x_train,y_train, epochs=10,batch_size=60)"
      ],
      "execution_count": 12,
      "outputs": [
        {
          "output_type": "stream",
          "text": [
            "Epoch 1/10\n",
            "1000/1000 [==============================] - 105s 104ms/step - loss: 0.5859 - accuracy: 0.7854\n",
            "Epoch 2/10\n",
            "1000/1000 [==============================] - 104s 104ms/step - loss: 0.2810 - accuracy: 0.8981\n",
            "Epoch 3/10\n",
            "1000/1000 [==============================] - 104s 104ms/step - loss: 0.2341 - accuracy: 0.9130\n",
            "Epoch 4/10\n",
            "1000/1000 [==============================] - 104s 104ms/step - loss: 0.1936 - accuracy: 0.9285\n",
            "Epoch 5/10\n",
            "1000/1000 [==============================] - 104s 104ms/step - loss: 0.1637 - accuracy: 0.9379\n",
            "Epoch 6/10\n",
            "1000/1000 [==============================] - 104s 104ms/step - loss: 0.1366 - accuracy: 0.9489\n",
            "Epoch 7/10\n",
            "1000/1000 [==============================] - 104s 104ms/step - loss: 0.1173 - accuracy: 0.9565\n",
            "Epoch 8/10\n",
            "1000/1000 [==============================] - 104s 104ms/step - loss: 0.0974 - accuracy: 0.9636\n",
            "Epoch 9/10\n",
            "1000/1000 [==============================] - 104s 104ms/step - loss: 0.0824 - accuracy: 0.9695\n",
            "Epoch 10/10\n",
            "1000/1000 [==============================] - 104s 104ms/step - loss: 0.0675 - accuracy: 0.9750\n"
          ],
          "name": "stdout"
        },
        {
          "output_type": "execute_result",
          "data": {
            "text/plain": [
              "<tensorflow.python.keras.callbacks.History at 0x7f0d939ff090>"
            ]
          },
          "metadata": {
            "tags": []
          },
          "execution_count": 12
        }
      ]
    },
    {
      "cell_type": "code",
      "metadata": {
        "colab": {
          "base_uri": "https://localhost:8080/"
        },
        "id": "KX6OG3Q78oED",
        "outputId": "3a5d2ee1-8bdc-4dbb-a39e-b10cd2b45c17"
      },
      "source": [
        "model.evaluate(x_test,y_test)"
      ],
      "execution_count": 13,
      "outputs": [
        {
          "output_type": "stream",
          "text": [
            "313/313 [==============================] - 6s 18ms/step - loss: 0.3048 - accuracy: 0.9170\n"
          ],
          "name": "stdout"
        },
        {
          "output_type": "execute_result",
          "data": {
            "text/plain": [
              "[0.304791659116745, 0.9169999957084656]"
            ]
          },
          "metadata": {
            "tags": []
          },
          "execution_count": 13
        }
      ]
    },
    {
      "cell_type": "code",
      "metadata": {
        "colab": {
          "base_uri": "https://localhost:8080/"
        },
        "id": "lIaTp1JM87go",
        "outputId": "2361dc01-6965-4fe3-c074-cc737fe13071"
      },
      "source": [
        "prediction=model.predict(x_test)\r\n",
        "print(prediction[0])\r\n",
        "labels=label[np.argmax(prediction[0])]\r\n",
        "print(labels)\r\n",
        "print(y_test[0])\r\n"
      ],
      "execution_count": 17,
      "outputs": [
        {
          "output_type": "stream",
          "text": [
            "[1.9587668e-10 4.0674644e-11 2.6403031e-13 3.0992575e-13 2.0645131e-11\n",
            " 4.3100865e-10 1.1214367e-09 1.2393367e-06 5.8048794e-14 9.9999881e-01]\n",
            "Ankle boot\n",
            "[0. 0. 0. 0. 0. 0. 0. 0. 0. 1.]\n"
          ],
          "name": "stdout"
        }
      ]
    }
  ]
}